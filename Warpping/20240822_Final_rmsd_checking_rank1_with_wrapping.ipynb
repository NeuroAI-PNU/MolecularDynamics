{
 "cells": [
  {
   "cell_type": "markdown",
   "metadata": {},
   "source": [
    "##### https://docs.mdanalysis.org/stable/documentation_pages/analysis/rms.html#MDAnalysis.analysis.rms.RMSD\n",
    "\n",
    "##### https://userguide.mdanalysis.org/stable/examples/transformations/center_protein_in_box.html#Doing-all-this-on-the-fly\n",
    "##### https://userguide.mdanalysis.org/stable/trajectories/transformations.html"
   ]
  },
  {
   "cell_type": "code",
   "execution_count": 2,
   "metadata": {},
   "outputs": [
    {
     "name": "stderr",
     "output_type": "stream",
     "text": [
      "/home/media/data2/user_home/dbsejrgus226/miniconda3/envs/MD/lib/python3.8/site-packages/Bio/Application/__init__.py:40: BiopythonDeprecationWarning: The Bio.Application modules and modules relying on it have been deprecated.\n",
      "\n",
      "Due to the on going maintenance burden of keeping command line application\n",
      "wrappers up to date, we have decided to deprecate and eventually remove these\n",
      "modules.\n",
      "\n",
      "We instead now recommend building your command line and invoking it directly\n",
      "with the subprocess module.\n",
      "  warnings.warn(\n"
     ]
    }
   ],
   "source": [
    "from pathlib import Path\n",
    "from tqdm import tqdm\n",
    "\n",
    "import pandas as pd\n",
    "import numpy as np\n",
    "import matplotlib.pyplot as plt\n",
    "#import nglview as nv\n",
    "import MDAnalysis as mda\n",
    "from MDAnalysis.analysis import rms, diffusionmap, align\n",
    "from MDAnalysis.analysis.distances import dist\n",
    "from MDAnalysis.analysis.hydrogenbonds.hbond_analysis import HydrogenBondAnalysis as HBA\n"
   ]
  },
  {
   "cell_type": "code",
   "execution_count": 3,
   "metadata": {},
   "outputs": [],
   "source": [
    "from MDAnalysis.transformations import wrap\n",
    "from MDAnalysis import transformations as trans"
   ]
  },
  {
   "cell_type": "code",
   "execution_count": 4,
   "metadata": {},
   "outputs": [
    {
     "name": "stderr",
     "output_type": "stream",
     "text": [
      "/home/media/data2/user_home/dbsejrgus226/miniconda3/envs/MD/lib/python3.8/site-packages/MDAnalysis/topology/PDBParser.py:287: UserWarning: PDB file is missing resid information.  Defaulted to '1'\n",
      "  warnings.warn(\"PDB file is missing resid information.  \"\n"
     ]
    }
   ],
   "source": [
    "md_universe_1 = mda.Universe(str(\"./240822_Final_topology_50ns_PME_1.pdb\"), str(\"./240822_Final_trajectory_50ns_PME_1.xtc\"))"
   ]
  },
  {
   "cell_type": "code",
   "execution_count": 5,
   "metadata": {},
   "outputs": [],
   "source": [
    "# 1,2 and 3 과정을 한번에 하기\n",
    "import MDAnalysis.transformations as trans\n",
    "\n",
    "md_universe_1 = mda.Universe(str(\"./240822_Final_topology_50ns_PME_1.pdb\"), str(\"./240822_Final_trajectory_50ns_PME_1.xtc\"))\n",
    "\n",
    "protein_2 = md_universe_1.select_atoms(\"protein\")\n",
    "not_protein_2 = md_universe_1.select_atoms(\"not protein\")\n",
    "\n",
    "transforms = [trans.unwrap(protein_2),\n",
    "              trans.center_in_box(protein_2),\n",
    "              trans.wrap(not_protein_2)]\n",
    "\n",
    "md_universe_1.trajectory.add_transformations(*transforms)"
   ]
  },
  {
   "cell_type": "code",
   "execution_count": 10,
   "metadata": {},
   "outputs": [],
   "source": [
    "# for 문을 돌리되 writting 하지 않을 경우\n",
    "# for ts in md_universe_1.trajectory:\n",
    "#     pass"
   ]
  },
  {
   "cell_type": "code",
   "execution_count": 6,
   "metadata": {},
   "outputs": [
    {
     "name": "stderr",
     "output_type": "stream",
     "text": [
      "Writing trajectory...: 100%|██████████| 50000/50000 [28:44<00:00, 29.00it/s]  \n"
     ]
    }
   ],
   "source": [
    "with mda.Writer(\"20240822_df_rank1_wrap_1_rmsd.xtc\", md_universe_1.atoms.n_atoms) as W:\n",
    "    for ts in tqdm(md_universe_1.trajectory, desc=\"Writing trajectory...\"):\n",
    "        W.write(md_universe_1.atoms)\n"
   ]
  },
  {
   "cell_type": "code",
   "execution_count": 7,
   "metadata": {},
   "outputs": [],
   "source": [
    "transformed_universe = mda.Universe(str(\"./240822_Final_topology_50ns_PME_1.pdb\"), str(\"./20240822_df_rank1_wrap_1_rmsd.xtc\"))"
   ]
  },
  {
   "cell_type": "code",
   "execution_count": 8,
   "metadata": {},
   "outputs": [
    {
     "data": {
      "text/plain": [
       "< Timestep 0 with unit cell dimensions [86.38236 86.38236 86.38236 90.      90.      90.     ] >"
      ]
     },
     "execution_count": 8,
     "metadata": {},
     "output_type": "execute_result"
    }
   ],
   "source": [
    "# Set trajectory pointer to first frame as reference\n",
    "transformed_universe.trajectory[0]"
   ]
  },
  {
   "cell_type": "code",
   "execution_count": 9,
   "metadata": {},
   "outputs": [
    {
     "data": {
      "text/plain": [
       "<MDAnalysis.analysis.align.AlignTraj at 0x7fa9d65c2940>"
      ]
     },
     "execution_count": 9,
     "metadata": {},
     "output_type": "execute_result"
    }
   ],
   "source": [
    "# in_memory=True is needed to actually modify the loaded trajectory\n",
    "# if the trajectory is too big for memory, one can write out the aligned trajectory and reload it into a new universe\n",
    "alignment_1 = align.AlignTraj(\n",
    "    mobile=transformed_universe, reference=transformed_universe, select=\"protein\", in_memory=True\n",
    ")\n",
    "alignment_1.run()"
   ]
  },
  {
   "cell_type": "code",
   "execution_count": 10,
   "metadata": {},
   "outputs": [],
   "source": [
    "def rmsd_for_atomgroups(universe, selection1, selection2=None):\n",
    "    \"\"\"Calulate the RMSD for selected atom groups.\n",
    "\n",
    "    Parameters\n",
    "    ----------\n",
    "    universe: MDAnalysis.core.universe.Universe\n",
    "        MDAnalysis universe.\n",
    "    selection1: str\n",
    "        Selection string for main atom group, also used during alignment.\n",
    "    selection2: list of str, optional\n",
    "        Selection strings for additional atom groups.\n",
    "\n",
    "    Returns\n",
    "    -------\n",
    "    rmsd_df: pandas.core.frame.DataFrame\n",
    "        DataFrame containing RMSD of the selected atom groups over time.\n",
    "    \"\"\"\n",
    "\n",
    "    universe.trajectory\n",
    "    ref = universe\n",
    "    rmsd_analysis = rms.RMSD(universe, ref, select=selection1, groupselections=selection2)\n",
    "    rmsd_analysis.run()\n",
    "\n",
    "    columns = [selection1, *selection2] if selection2 else [selection1]\n",
    "    #print(rmsd_analysis.results)\n",
    "    #print(rmsd_analysis)\n",
    "    rmsd_df = pd.DataFrame(np.round(rmsd_analysis.results.rmsd[:, 2:], 2), columns=columns)\n",
    "    rmsd_df.index.name = \"time\"\n",
    "    return rmsd_df"
   ]
  },
  {
   "cell_type": "code",
   "execution_count": 11,
   "metadata": {},
   "outputs": [],
   "source": [
    "rmsd_1 = rmsd_for_atomgroups(transformed_universe, \"backbone\", [\"protein\", \"resname UNK\"])"
   ]
  },
  {
   "cell_type": "code",
   "execution_count": 12,
   "metadata": {},
   "outputs": [],
   "source": [
    "rmsd_1.rename(columns={\"resname UNK\": \"rank_1_ligand\"}, inplace=True)"
   ]
  },
  {
   "cell_type": "code",
   "execution_count": 13,
   "metadata": {},
   "outputs": [],
   "source": [
    "rmsd_1.to_csv(\"./20240822_df_rank1_wrap_1_rmsd.csv\", index=False)"
   ]
  },
  {
   "cell_type": "code",
   "execution_count": 14,
   "metadata": {},
   "outputs": [
    {
     "data": {
      "image/png": "[encoded data removed]",
      "text/plain": [
       "<Figure size 640x480 with 1 Axes>"
      ]
     },
     "metadata": {},
     "output_type": "display_data"
    }
   ],
   "source": [
    "rmsd_1.plot(title=\"RMSD of protein and ligand\")\n",
    "plt.xlabel(\"time (100 ps)\")\n",
    "plt.ylabel(\"RMSD (Å)\");\n",
    "plt.savefig(\"20240905_final_rank1_rmsd_for50ns_wrap_1_results\") "
   ]
  },
  {
   "cell_type": "code",
   "execution_count": 1,
   "metadata": {},
   "outputs": [
    {
     "ename": "NameError",
     "evalue": "name 'md_universe_1' is not defined",
     "output_type": "error",
     "traceback": [
      "\u001b[0;31m---------------------------------------------------------------------------\u001b[0m",
      "\u001b[0;31mNameError\u001b[0m                                 Traceback (most recent call last)",
      "Cell \u001b[0;32mIn[1], line 3\u001b[0m\n\u001b[1;32m      1\u001b[0m \u001b[38;5;66;03m# identfy the box size\u001b[39;00m\n\u001b[0;32m----> 3\u001b[0m box_vectors \u001b[38;5;241m=\u001b[39m \u001b[43mmd_universe_1\u001b[49m\u001b[38;5;241m.\u001b[39mdimensions\n\u001b[1;32m      4\u001b[0m \u001b[38;5;28mprint\u001b[39m(\u001b[38;5;124m\"\u001b[39m\u001b[38;5;124m박스 크기:\u001b[39m\u001b[38;5;124m\"\u001b[39m, box_vectors)\n",
      "\u001b[0;31mNameError\u001b[0m: name 'md_universe_1' is not defined"
     ]
    }
   ],
   "source": [
    "# identfy the box size\n",
    "\n",
    "box_vectors = md_universe_1.dimensions\n",
    "print(\"박스 크기:\", box_vectors)"
   ]
  },
  {
   "cell_type": "code",
   "execution_count": 11,
   "metadata": {},
   "outputs": [],
   "source": [
    "all_position = md_universe_1.atoms.positions"
   ]
  },
  {
   "cell_type": "code",
   "execution_count": 12,
   "metadata": {},
   "outputs": [],
   "source": [
    "min_coords = np.min(all_position, axis=0)\n",
    "max_coords = np.max(all_position, axis=0)"
   ]
  },
  {
   "cell_type": "code",
   "execution_count": 13,
   "metadata": {},
   "outputs": [],
   "source": [
    "dimensions = max_coords - min_coords"
   ]
  },
  {
   "cell_type": "code",
   "execution_count": 14,
   "metadata": {},
   "outputs": [
    {
     "name": "stdout",
     "output_type": "stream",
     "text": [
      "복합체의 크기: X = 105.10 Å, Y = 112.53 Å, Z = 98.53 Å\n"
     ]
    }
   ],
   "source": [
    "print(f\"복합체의 크기: X = {dimensions[0]:.2f} Å, Y = {dimensions[1]:.2f} Å, Z = {dimensions[2]:.2f} Å\")"
   ]
  },
  {
   "cell_type": "code",
   "execution_count": 4,
   "metadata": {},
   "outputs": [
    {
     "name": "stdout",
     "output_type": "stream",
     "text": [
      "원래 좌표:\n",
      "[[11.  4. -2.]\n",
      " [ 5. 12.  8.]\n",
      " [-1. -6. 14.]]\n",
      "\n",
      "랩핑된 좌표:\n",
      "[[1. 4. 8.]\n",
      " [5. 2. 8.]\n",
      " [9. 4. 4.]]\n"
     ]
    }
   ],
   "source": [
    "import numpy as np\n",
    "\n",
    "def wrap_coordinates(coordinates, box_size):\n",
    "    \"\"\"\n",
    "    좌표를 주기적 경계 조건(PBC)을 적용하여 랩핑하는 함수.\n",
    "\n",
    "    Parameters:\n",
    "    - coordinates: 원자의 좌표 배열 (N x 3, 여기서 N은 원자의 수)\n",
    "    - box_size: 시뮬레이션 상자의 크기 (Lx, Ly, Lz)\n",
    "\n",
    "    Returns:\n",
    "    - wrapped_coords: 랩핑된 좌표 배열 (N x 3)\n",
    "    \"\"\"\n",
    "\n",
    "    wrapped_coords = np.mod(coordinates, box_size)\n",
    "    return wrapped_coords\n",
    "\n",
    "# 예시 데이터\n",
    "# 원자의 좌표 (N x 3 형태)\n",
    "coordinates = np.array([[11.0, 4.0, -2.0], \n",
    "                        [5.0, 12.0, 8.0], \n",
    "                        [-1.0, -6.0, 14.0]])\n",
    "\n",
    "# 시뮬레이션 상자의 크기 (Lx, Ly, Lz)\n",
    "box_size = np.array([10.0, 10.0, 10.0])\n",
    "\n",
    "# 좌표 랩핑\n",
    "wrapped_coords = wrap_coordinates(coordinates, box_size)\n",
    "\n",
    "print(\"원래 좌표:\")\n",
    "print(coordinates)\n",
    "print(\"\\n랩핑된 좌표:\")\n",
    "print(wrapped_coords)\n"
   ]
  },
  {
   "cell_type": "code",
   "execution_count": null,
   "metadata": {},
   "outputs": [],
   "source": []
  }
 ],
 "metadata": {
  "kernelspec": {
   "display_name": "MD",
   "language": "python",
   "name": "python3"
  },
  "language_info": {
   "codemirror_mode": {
    "name": "ipython",
    "version": 3
   },
   "file_extension": ".py",
   "mimetype": "text/x-python",
   "name": "python",
   "nbconvert_exporter": "python",
   "pygments_lexer": "ipython3",
   "version": "3.8.19"
  }
 },
 "nbformat": 4,
 "nbformat_minor": 2
}
